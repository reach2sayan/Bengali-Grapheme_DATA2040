{
 "cells": [
  {
   "cell_type": "code",
   "execution_count": 1,
   "metadata": {},
   "outputs": [],
   "source": [
    "import numpy as np\n",
    "import pandas as pd\n",
    "import cv2\n",
    "import matplotlib.pyplot as plt\n",
    "import albumentations as A\n",
    "from pathlib import Path\n",
    "import os\n",
    "from tqdm import tqdm"
   ]
  },
  {
   "cell_type": "code",
   "execution_count": 2,
   "metadata": {},
   "outputs": [],
   "source": [
    "datadir_parquet = Path('/home/sayan/Documents/Bengali_Grapheme/data/image_parquets/')\n",
    "\n",
    "IMG_HEIGHT = 137;\n",
    "IMG_WIDTH = 236;"
   ]
  },
  {
   "cell_type": "code",
   "execution_count": 3,
   "metadata": {},
   "outputs": [],
   "source": [
    "def resize_threshold(image,resize_size=64):\n",
    "    \n",
    "    #image_bw = cv2.cvtColor(image, cv2.COLOR_BGR2GRAY)\n",
    "    \n",
    "    ret, image = cv2.threshold(image, 127, 255, cv2.THRESH_BINARY_INV + cv2.THRESH_OTSU)\n",
    "    contours, _ = cv2.findContours(image,cv2.RETR_TREE,cv2.CHAIN_APPROX_NONE)[-2:] # finding the dark countour\n",
    "    \n",
    "    idx = 0 \n",
    "    ls_xmin = []\n",
    "    ls_ymin = []\n",
    "    ls_xmax = []\n",
    "    ls_ymax = []\n",
    "    for cnt in contours:\n",
    "        idx += 1\n",
    "        x,y,w,h = cv2.boundingRect(cnt)\n",
    "        ls_xmin.append(x)\n",
    "        ls_ymin.append(y)\n",
    "        ls_xmax.append(x + w)\n",
    "        ls_ymax.append(y + h)\n",
    "    xmin = min(ls_xmin)\n",
    "    ymin = min(ls_ymin)\n",
    "    xmax = max(ls_xmax)\n",
    "    ymax = max(ls_ymax)\n",
    "    \n",
    "    roi = image[ymin:ymax,xmin:xmax]\n",
    "    resized_roi = cv2.resize(roi, (resize_size, resize_size),interpolation=cv2.INTER_AREA)\n",
    "    \n",
    "    return resized_roi"
   ]
  },
  {
   "cell_type": "code",
   "execution_count": 4,
   "metadata": {},
   "outputs": [],
   "source": [
    "def combine_image_labels(image_df):\n",
    "    \n",
    "    reduced_df = pd.DataFrame()\n",
    "    cols = np.array(range(0,4096),dtype=str)\n",
    "    \n",
    "    for i in tqdm(range(image_df.shape[0])):\n",
    "        \n",
    "        img_name = image_df.iloc[i][0]\n",
    "        \n",
    "        img_OG = np.array(image_df.iloc[i][1:].values.reshape(137,236,1))\n",
    "        img_resized = resize_threshold(img_OG.astype(np.uint8),resize_size=64)\n",
    "        img_pd = pd.DataFrame(data=img_resized.reshape(1,4096), columns=cols)\n",
    "        \n",
    "        name = pd.DataFrame(data=[img_name], columns=['image_id'])\n",
    "        new_row = pd.concat([name, img_pd],axis=1,sort=False)\n",
    "        reduced_df = reduced_df.append(new_row, ignore_index = True) \n",
    "    \n",
    "    return reduced_df"
   ]
  },
  {
   "cell_type": "code",
   "execution_count": 5,
   "metadata": {},
   "outputs": [],
   "source": [
    "test_df = pd.read_csv('/home/sayan/Documents/Bengali_Grapheme/data/test.csv')"
   ]
  },
  {
   "cell_type": "code",
   "execution_count": 6,
   "metadata": {},
   "outputs": [],
   "source": [
    "test_image_0 = pd.read_parquet(datadir_parquet/'test_image_data_0.parquet',engine='pyarrow')"
   ]
  },
  {
   "cell_type": "code",
   "execution_count": 7,
   "metadata": {},
   "outputs": [
    {
     "name": "stderr",
     "output_type": "stream",
     "text": [
      "100%|██████████| 3/3 [00:00<00:00, 23.93it/s]\n"
     ]
    }
   ],
   "source": [
    "combined_test_df_0 = combine_image_labels(test_image_0)"
   ]
  },
  {
   "cell_type": "code",
   "execution_count": 8,
   "metadata": {},
   "outputs": [],
   "source": [
    "combined_test_df_0.to_csv('/home/sayan/Documents/Bengali_Grapheme/data/combined_test_0.csv',index=False)"
   ]
  },
  {
   "cell_type": "code",
   "execution_count": 9,
   "metadata": {},
   "outputs": [
    {
     "name": "stderr",
     "output_type": "stream",
     "text": [
      "100%|██████████| 3/3 [00:00<00:00, 25.59it/s]\n"
     ]
    }
   ],
   "source": [
    "test_image_1 = pd.read_parquet(datadir_parquet/'test_image_data_1.parquet',engine='pyarrow')\n",
    "combined_test_df_1 = combine_image_labels(test_image_1)\n",
    "combined_test_df_1.to_csv('/home/sayan/Documents/Bengali_Grapheme/data/combined_test_1.csv',index=False)"
   ]
  },
  {
   "cell_type": "code",
   "execution_count": 10,
   "metadata": {},
   "outputs": [
    {
     "name": "stderr",
     "output_type": "stream",
     "text": [
      "100%|██████████| 3/3 [00:00<00:00, 26.38it/s]\n"
     ]
    }
   ],
   "source": [
    "test_image_2 = pd.read_parquet(datadir_parquet/'test_image_data_2.parquet',engine='pyarrow')\n",
    "combined_test_df_2 = combine_image_labels(test_image_2)\n",
    "combined_test_df_2.to_csv('/home/sayan/Documents/Bengali_Grapheme/data/combined_test_2.csv',index=False)"
   ]
  },
  {
   "cell_type": "code",
   "execution_count": 11,
   "metadata": {},
   "outputs": [
    {
     "name": "stderr",
     "output_type": "stream",
     "text": [
      "100%|██████████| 3/3 [00:00<00:00, 27.35it/s]\n"
     ]
    }
   ],
   "source": [
    "test_image_3 = pd.read_parquet(datadir_parquet/'test_image_data_3.parquet',engine='pyarrow')\n",
    "combined_test_df_3 = combine_image_labels(test_image_3)\n",
    "combined_test_df_3.to_csv('/home/sayan/Documents/Bengali_Grapheme/data/combined_test_3.csv',index=False)"
   ]
  },
  {
   "cell_type": "code",
   "execution_count": 12,
   "metadata": {},
   "outputs": [
    {
     "data": {
      "text/html": [
       "<div>\n",
       "<style scoped>\n",
       "    .dataframe tbody tr th:only-of-type {\n",
       "        vertical-align: middle;\n",
       "    }\n",
       "\n",
       "    .dataframe tbody tr th {\n",
       "        vertical-align: top;\n",
       "    }\n",
       "\n",
       "    .dataframe thead th {\n",
       "        text-align: right;\n",
       "    }\n",
       "</style>\n",
       "<table border=\"1\" class=\"dataframe\">\n",
       "  <thead>\n",
       "    <tr style=\"text-align: right;\">\n",
       "      <th></th>\n",
       "      <th>image_id</th>\n",
       "      <th>0</th>\n",
       "      <th>1</th>\n",
       "      <th>2</th>\n",
       "      <th>3</th>\n",
       "      <th>4</th>\n",
       "      <th>5</th>\n",
       "      <th>6</th>\n",
       "      <th>7</th>\n",
       "      <th>8</th>\n",
       "      <th>...</th>\n",
       "      <th>4086</th>\n",
       "      <th>4087</th>\n",
       "      <th>4088</th>\n",
       "      <th>4089</th>\n",
       "      <th>4090</th>\n",
       "      <th>4091</th>\n",
       "      <th>4092</th>\n",
       "      <th>4093</th>\n",
       "      <th>4094</th>\n",
       "      <th>4095</th>\n",
       "    </tr>\n",
       "  </thead>\n",
       "  <tbody>\n",
       "    <tr>\n",
       "      <th>0</th>\n",
       "      <td>Test_0</td>\n",
       "      <td>0</td>\n",
       "      <td>0</td>\n",
       "      <td>0</td>\n",
       "      <td>0</td>\n",
       "      <td>0</td>\n",
       "      <td>0</td>\n",
       "      <td>0</td>\n",
       "      <td>255</td>\n",
       "      <td>0</td>\n",
       "      <td>...</td>\n",
       "      <td>0</td>\n",
       "      <td>0</td>\n",
       "      <td>0</td>\n",
       "      <td>0</td>\n",
       "      <td>0</td>\n",
       "      <td>0</td>\n",
       "      <td>0</td>\n",
       "      <td>0</td>\n",
       "      <td>0</td>\n",
       "      <td>0</td>\n",
       "    </tr>\n",
       "    <tr>\n",
       "      <th>1</th>\n",
       "      <td>Test_1</td>\n",
       "      <td>0</td>\n",
       "      <td>0</td>\n",
       "      <td>0</td>\n",
       "      <td>0</td>\n",
       "      <td>0</td>\n",
       "      <td>0</td>\n",
       "      <td>0</td>\n",
       "      <td>0</td>\n",
       "      <td>0</td>\n",
       "      <td>...</td>\n",
       "      <td>0</td>\n",
       "      <td>0</td>\n",
       "      <td>0</td>\n",
       "      <td>0</td>\n",
       "      <td>0</td>\n",
       "      <td>0</td>\n",
       "      <td>0</td>\n",
       "      <td>0</td>\n",
       "      <td>0</td>\n",
       "      <td>0</td>\n",
       "    </tr>\n",
       "    <tr>\n",
       "      <th>2</th>\n",
       "      <td>Test_2</td>\n",
       "      <td>0</td>\n",
       "      <td>0</td>\n",
       "      <td>0</td>\n",
       "      <td>0</td>\n",
       "      <td>0</td>\n",
       "      <td>0</td>\n",
       "      <td>0</td>\n",
       "      <td>0</td>\n",
       "      <td>0</td>\n",
       "      <td>...</td>\n",
       "      <td>0</td>\n",
       "      <td>0</td>\n",
       "      <td>0</td>\n",
       "      <td>0</td>\n",
       "      <td>0</td>\n",
       "      <td>0</td>\n",
       "      <td>0</td>\n",
       "      <td>0</td>\n",
       "      <td>0</td>\n",
       "      <td>0</td>\n",
       "    </tr>\n",
       "  </tbody>\n",
       "</table>\n",
       "<p>3 rows × 4097 columns</p>\n",
       "</div>"
      ],
      "text/plain": [
       "  image_id  0  1  2  3  4  5  6    7  8  ...  4086  4087  4088  4089  4090  \\\n",
       "0   Test_0  0  0  0  0  0  0  0  255  0  ...     0     0     0     0     0   \n",
       "1   Test_1  0  0  0  0  0  0  0    0  0  ...     0     0     0     0     0   \n",
       "2   Test_2  0  0  0  0  0  0  0    0  0  ...     0     0     0     0     0   \n",
       "\n",
       "   4091  4092  4093  4094  4095  \n",
       "0     0     0     0     0     0  \n",
       "1     0     0     0     0     0  \n",
       "2     0     0     0     0     0  \n",
       "\n",
       "[3 rows x 4097 columns]"
      ]
     },
     "execution_count": 12,
     "metadata": {},
     "output_type": "execute_result"
    }
   ],
   "source": [
    "combined_test_df_0"
   ]
  },
  {
   "cell_type": "code",
   "execution_count": 13,
   "metadata": {},
   "outputs": [],
   "source": [
    "combined_test = pd.concat([combined_test_df_0,combined_test_df_1,combined_test_df_2,combined_test_df_3]).reset_index(drop=True)"
   ]
  },
  {
   "cell_type": "code",
   "execution_count": 14,
   "metadata": {},
   "outputs": [],
   "source": [
    "combined_test.to_parquet('/home/sayan/Documents/Bengali_Grapheme/data/test_resized.parquet',index=False)"
   ]
  },
  {
   "cell_type": "code",
   "execution_count": null,
   "metadata": {},
   "outputs": [],
   "source": []
  }
 ],
 "metadata": {
  "@webio": {
   "lastCommId": null,
   "lastKernelId": null
  },
  "kernelspec": {
   "display_name": "Python 3",
   "language": "python",
   "name": "python3"
  },
  "language_info": {
   "codemirror_mode": {
    "name": "ipython",
    "version": 3
   },
   "file_extension": ".py",
   "mimetype": "text/x-python",
   "name": "python",
   "nbconvert_exporter": "python",
   "pygments_lexer": "ipython3",
   "version": "3.6.4"
  },
  "varInspector": {
   "cols": {
    "lenName": 16,
    "lenType": 16,
    "lenVar": 40
   },
   "kernels_config": {
    "python": {
     "delete_cmd_postfix": "",
     "delete_cmd_prefix": "del ",
     "library": "var_list.py",
     "varRefreshCmd": "print(var_dic_list())"
    },
    "r": {
     "delete_cmd_postfix": ") ",
     "delete_cmd_prefix": "rm(",
     "library": "var_list.r",
     "varRefreshCmd": "cat(var_dic_list()) "
    }
   },
   "types_to_exclude": [
    "module",
    "function",
    "builtin_function_or_method",
    "instance",
    "_Feature"
   ],
   "window_display": false
  }
 },
 "nbformat": 4,
 "nbformat_minor": 2
}
