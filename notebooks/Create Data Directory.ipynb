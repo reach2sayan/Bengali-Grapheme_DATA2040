{
 "cells": [
  {
   "cell_type": "code",
   "execution_count": 14,
   "metadata": {},
   "outputs": [],
   "source": [
    "import numpy as np\n",
    "import pandas as pd\n",
    "import cv2\n",
    "import matplotlib.pyplot as plt\n",
    "import albumentations as A\n",
    "from pathlib import Path\n",
    "import os\n",
    "from tqdm import tqdm\n",
    "import shutil\n",
    "\n",
    "IMG_HEIGHT = 137;\n",
    "IMG_WIDTH = 236;\n",
    "\n",
    "counts = dict({'grapheme':168, 'vowels':11, 'consonants':7})\n",
    "classes_grapheme = range(168)\n",
    "classes_vowel = range(11)\n",
    "class_consonants = range(7)"
   ]
  },
  {
   "cell_type": "code",
   "execution_count": 15,
   "metadata": {},
   "outputs": [
    {
     "data": {
      "text/plain": [
       "168"
      ]
     },
     "execution_count": 15,
     "metadata": {},
     "output_type": "execute_result"
    }
   ],
   "source": [
    "counts['grapheme']"
   ]
  },
  {
   "cell_type": "code",
   "execution_count": 16,
   "metadata": {},
   "outputs": [],
   "source": [
    "datadir = '/home/sayan/Documents/Bengali_Grapheme/data/'\n",
    "imagedir = '/home/sayan/Documents/Bengali_Grapheme/images/'\n",
    "train_df = pd.read_csv(datadir+'train.csv')"
   ]
  },
  {
   "cell_type": "code",
   "execution_count": 17,
   "metadata": {},
   "outputs": [],
   "source": [
    "class_map = pd.read_csv(datadir+'class_map.csv')"
   ]
  },
  {
   "cell_type": "code",
   "execution_count": 18,
   "metadata": {},
   "outputs": [
    {
     "name": "stdout",
     "output_type": "stream",
     "text": [
      "Unique Grapheme Roots: 168\n",
      "Unique Vowel Diacritcs: 11\n",
      "Unique Consonant Diacritcs: 7\n"
     ]
    }
   ],
   "source": [
    "count_grapheme_roots = np.unique(train_df['grapheme_root'])\n",
    "count_vowel_diacritic = np.unique(train_df['vowel_diacritic'])\n",
    "count_consonant_diacritic = np.unique(train_df['consonant_diacritic'])\n",
    "print('Unique Grapheme Roots: '+str(len(count_grapheme_roots)))\n",
    "print('Unique Vowel Diacritcs: '+str(len(count_vowel_diacritic)))\n",
    "print('Unique Consonant Diacritcs: '+str(len(count_consonant_diacritic)))"
   ]
  },
  {
   "cell_type": "code",
   "execution_count": 19,
   "metadata": {},
   "outputs": [
    {
     "name": "stderr",
     "output_type": "stream",
     "text": [
      "/home/sayan/anaconda3/lib/python3.6/site-packages/sklearn/preprocessing/_encoders.py:415: FutureWarning: The handling of integer data will change in version 0.22. Currently, the categories are determined based on the range [0, max(values)], while in the future they will be determined based on the unique values.\n",
      "If you want the future behaviour and silence this warning, you can specify \"categories='auto'\".\n",
      "In case you used a LabelEncoder before this OneHotEncoder to convert the categories to integers, then you can now use the OneHotEncoder directly.\n",
      "  warnings.warn(msg, FutureWarning)\n"
     ]
    }
   ],
   "source": [
    "from sklearn.preprocessing import OneHotEncoder\n",
    "\n",
    "ohe_labels = OneHotEncoder(sparse=False)\n",
    "\n",
    "y_labels = ohe_labels.fit_transform(train_df[['grapheme_root','vowel_diacritic','consonant_diacritic']],)\n",
    "label_names = ohe_labels.get_feature_names(['grapheme_root','vowel_diacritic','consonant_diacritic'])\n",
    "y = pd.DataFrame(data=y_labels,columns = label_names)"
   ]
  },
  {
   "cell_type": "code",
   "execution_count": 20,
   "metadata": {},
   "outputs": [
    {
     "data": {
      "text/html": [
       "<div>\n",
       "<style scoped>\n",
       "    .dataframe tbody tr th:only-of-type {\n",
       "        vertical-align: middle;\n",
       "    }\n",
       "\n",
       "    .dataframe tbody tr th {\n",
       "        vertical-align: top;\n",
       "    }\n",
       "\n",
       "    .dataframe thead th {\n",
       "        text-align: right;\n",
       "    }\n",
       "</style>\n",
       "<table border=\"1\" class=\"dataframe\">\n",
       "  <thead>\n",
       "    <tr style=\"text-align: right;\">\n",
       "      <th></th>\n",
       "      <th>image_id</th>\n",
       "      <th>grapheme_root</th>\n",
       "      <th>vowel_diacritic</th>\n",
       "      <th>consonant_diacritic</th>\n",
       "      <th>grapheme</th>\n",
       "    </tr>\n",
       "  </thead>\n",
       "  <tbody>\n",
       "    <tr>\n",
       "      <th>0</th>\n",
       "      <td>Train_0</td>\n",
       "      <td>15</td>\n",
       "      <td>9</td>\n",
       "      <td>5</td>\n",
       "      <td>ক্ট্রো</td>\n",
       "    </tr>\n",
       "    <tr>\n",
       "      <th>1</th>\n",
       "      <td>Train_1</td>\n",
       "      <td>159</td>\n",
       "      <td>0</td>\n",
       "      <td>0</td>\n",
       "      <td>হ</td>\n",
       "    </tr>\n",
       "    <tr>\n",
       "      <th>2</th>\n",
       "      <td>Train_2</td>\n",
       "      <td>22</td>\n",
       "      <td>3</td>\n",
       "      <td>5</td>\n",
       "      <td>খ্রী</td>\n",
       "    </tr>\n",
       "    <tr>\n",
       "      <th>3</th>\n",
       "      <td>Train_3</td>\n",
       "      <td>53</td>\n",
       "      <td>2</td>\n",
       "      <td>2</td>\n",
       "      <td>র্টি</td>\n",
       "    </tr>\n",
       "    <tr>\n",
       "      <th>4</th>\n",
       "      <td>Train_4</td>\n",
       "      <td>71</td>\n",
       "      <td>9</td>\n",
       "      <td>5</td>\n",
       "      <td>থ্রো</td>\n",
       "    </tr>\n",
       "  </tbody>\n",
       "</table>\n",
       "</div>"
      ],
      "text/plain": [
       "  image_id  grapheme_root  vowel_diacritic  consonant_diacritic grapheme\n",
       "0  Train_0             15                9                    5   ক্ট্রো\n",
       "1  Train_1            159                0                    0        হ\n",
       "2  Train_2             22                3                    5     খ্রী\n",
       "3  Train_3             53                2                    2     র্টি\n",
       "4  Train_4             71                9                    5     থ্রো"
      ]
     },
     "execution_count": 20,
     "metadata": {},
     "output_type": "execute_result"
    }
   ],
   "source": [
    "train_df.head()"
   ]
  },
  {
   "cell_type": "code",
   "execution_count": 21,
   "metadata": {},
   "outputs": [],
   "source": [
    "v = train_df[train_df['grapheme_root'] == 15]['image_id'].values"
   ]
  },
  {
   "cell_type": "code",
   "execution_count": 22,
   "metadata": {},
   "outputs": [],
   "source": [
    "# Create training, validation, and testing datasets\n",
    "base_training_grapheme = \"Toy_Training/grapheme\"\n",
    "base_validation_grapheme = \"Toy_Validation/grapheme\"\n",
    "base_testing_grapheme = \"Toy_Testing/grapheme\"\n",
    "\n",
    "base_training_vowel = \"Toy_Training/vowel\"\n",
    "base_validation_vowel = \"Toy_Validation/vowel\"\n",
    "base_testing_vowel = \"Toy_Testing/vowel\"\n",
    "\n",
    "base_training_consonant = \"Toy_Training/consonant\"\n",
    "base_validation_consonant = \"Toy_Validation/consonant\"\n",
    "base_testing_consonant = \"Toy_Testing/consonant\"\n",
    "\n",
    "folders = [\"Toy_Training/grapheme\",\"Toy_Validation/grapheme\",\"Toy_Testing/grapheme\",\n",
    "           \"Toy_Training/vowel\",\"Toy_Validation/vowel\", \"Toy_Testing/vowel\",\n",
    "           \"Toy_Training/consonant\",\"Toy_Validation/consonant\",\"Toy_Testing/consonant\"]"
   ]
  },
  {
   "cell_type": "code",
   "execution_count": 33,
   "metadata": {},
   "outputs": [],
   "source": [
    "def create_data_directory(target,dirname,df):\n",
    "    for label in range(counts[target]):\n",
    "        class_folder = dirname+'/'+str(label)\n",
    "        Path(class_folder).mkdir(parents = True)\n",
    "        if target == 'vowels':\n",
    "            target_key = 'vowel_diacritic'\n",
    "        elif target == 'consonants':\n",
    "            target_key = 'consonant_diacritic'\n",
    "        else:\n",
    "            target_key = 'grapheme_root'\n",
    "        images = (df[df[target_key] == label]['image_id'])\n",
    "        count = 0\n",
    "        for image in images:\n",
    "            shutil.copy(imagedir+'toy_processed_images/'+image+'_f.png', class_folder+'/'+str(count)+'.png')\n",
    "            count = count+1"
   ]
  },
  {
   "cell_type": "code",
   "execution_count": 34,
   "metadata": {},
   "outputs": [
    {
     "name": "stderr",
     "output_type": "stream",
     "text": [
      "100%|██████████| 20084/20084 [00:00<00:00, 1565449.47it/s]\n"
     ]
    }
   ],
   "source": [
    "datadir_raw_images = Path('/home/sayan/Documents/Bengali_Grapheme/images/toy_processed_images/')\n",
    "images = []\n",
    "for (directory, _ , image_names) in os.walk(datadir_raw_images):\n",
    "        for image_name in tqdm(image_names):\n",
    "            images.append(image_name.replace('_f.png',''))\n",
    "\n",
    "toy_train = train_df[train_df['image_id'].isin(images)]"
   ]
  },
  {
   "cell_type": "code",
   "execution_count": 36,
   "metadata": {},
   "outputs": [],
   "source": [
    "create_data_directory('vowels','/home/sayan/Documents/Bengali_Grapheme/images/train_vowels',toy_train)"
   ]
  },
  {
   "cell_type": "code",
   "execution_count": 37,
   "metadata": {},
   "outputs": [],
   "source": [
    "create_data_directory('consonants','/home/sayan/Documents/Bengali_Grapheme/images/train_consonants',toy_train)"
   ]
  },
  {
   "cell_type": "code",
   "execution_count": 39,
   "metadata": {},
   "outputs": [],
   "source": [
    "create_data_directory('grapheme','/home/sayan/Documents/Bengali_Grapheme/images/train_grapheme',toy_train)"
   ]
  },
  {
   "cell_type": "code",
   "execution_count": null,
   "metadata": {},
   "outputs": [],
   "source": []
  }
 ],
 "metadata": {
  "kernelspec": {
   "display_name": "Python 3",
   "language": "python",
   "name": "python3"
  },
  "language_info": {
   "codemirror_mode": {
    "name": "ipython",
    "version": 3
   },
   "file_extension": ".py",
   "mimetype": "text/x-python",
   "name": "python",
   "nbconvert_exporter": "python",
   "pygments_lexer": "ipython3",
   "version": "3.6.4"
  },
  "varInspector": {
   "cols": {
    "lenName": 16,
    "lenType": 16,
    "lenVar": 40
   },
   "kernels_config": {
    "python": {
     "delete_cmd_postfix": "",
     "delete_cmd_prefix": "del ",
     "library": "var_list.py",
     "varRefreshCmd": "print(var_dic_list())"
    },
    "r": {
     "delete_cmd_postfix": ") ",
     "delete_cmd_prefix": "rm(",
     "library": "var_list.r",
     "varRefreshCmd": "cat(var_dic_list()) "
    }
   },
   "position": {
    "height": "144.85px",
    "left": "995px",
    "right": "20px",
    "top": "119px",
    "width": "350px"
   },
   "types_to_exclude": [
    "module",
    "function",
    "builtin_function_or_method",
    "instance",
    "_Feature"
   ],
   "window_display": false
  }
 },
 "nbformat": 4,
 "nbformat_minor": 2
}
