{
 "cells": [
  {
   "cell_type": "code",
   "execution_count": 1,
   "metadata": {
    "colab": {},
    "colab_type": "code",
    "id": "i2XbZajNwBc6"
   },
   "outputs": [],
   "source": [
    "import numpy as np\n",
    "import pandas as pd\n",
    "import matplotlib.pyplot as plt\n",
    "import os\n",
    "from pathlib import Path\n",
    "import cv2\n",
    "from tqdm import tqdm\n",
    "from PIL import Image"
   ]
  },
  {
   "cell_type": "code",
   "execution_count": 2,
   "metadata": {
    "colab": {},
    "colab_type": "code",
    "id": "rwOI7OT2wBdM"
   },
   "outputs": [],
   "source": [
    "datadir_parquet = Path('/home/sayan/Documents/Bengali_Grapheme/data/image_parquets/')\n",
    "#datadir_feather = Path('/home/sayan/Documents/Bengali_Grapheme/data/image_feathers/')\n",
    "\n",
    "IMG_HEIGHT = 137;\n",
    "IMG_WIDTH = 236;"
   ]
  },
  {
   "cell_type": "code",
   "execution_count": 3,
   "metadata": {
    "code_folding": [],
    "colab": {},
    "colab_type": "code",
    "id": "enFIYoOXHhDP"
   },
   "outputs": [],
   "source": [
    "def resize_threshold(image,resize_size=64):\n",
    "    \n",
    "    #image_bw = cv2.cvtColor(image, cv2.COLOR_BGR2GRAY)\n",
    "    \n",
    "    ret, image = cv2.threshold(image, 127, 255, cv2.THRESH_BINARY_INV + cv2.THRESH_OTSU)\n",
    "    contours, _ = cv2.findContours(image,cv2.RETR_TREE,cv2.CHAIN_APPROX_NONE)[-2:] # finding the dark countour\n",
    "    \n",
    "    idx = 0 \n",
    "    ls_xmin = []\n",
    "    ls_ymin = []\n",
    "    ls_xmax = []\n",
    "    ls_ymax = []\n",
    "    for cnt in contours:\n",
    "        idx += 1\n",
    "        x,y,w,h = cv2.boundingRect(cnt)\n",
    "        ls_xmin.append(x)\n",
    "        ls_ymin.append(y)\n",
    "        ls_xmax.append(x + w)\n",
    "        ls_ymax.append(y + h)\n",
    "    xmin = min(ls_xmin)\n",
    "    ymin = min(ls_ymin)\n",
    "    xmax = max(ls_xmax)\n",
    "    ymax = max(ls_ymax)\n",
    "    \n",
    "    roi = image[ymin:ymax,xmin:xmax]\n",
    "    resized_roi = cv2.resize(roi, (resize_size, resize_size),interpolation=cv2.INTER_AREA)\n",
    "    \n",
    "    return resized_roi"
   ]
  },
  {
   "cell_type": "code",
   "execution_count": 4,
   "metadata": {
    "code_folding": [],
    "colab": {},
    "colab_type": "code",
    "id": "ajovcM7qHrBs"
   },
   "outputs": [],
   "source": [
    "def combine_image_labels(train_df,image_df):\n",
    "    \n",
    "    reduced_df = pd.DataFrame()\n",
    "    cols = np.array(range(0,4096),dtype=str)\n",
    "    \n",
    "    for i in tqdm(range(50210)):\n",
    "        \n",
    "        img_name = image_df.iloc[i][0]\n",
    "        \n",
    "        img_OG = np.array(image_df.iloc[i][1:].values.reshape(137,236,1))\n",
    "        img_resized = resize_threshold(img_OG.astype(np.uint8),resize_size=64)\n",
    "        labels = train_df[(train_df['image_id'] == img_name)][['grapheme_root','vowel_diacritic','consonant_diacritic']].values\n",
    "        img_pd = pd.DataFrame(data=img_resized.reshape(1,4096), columns=cols)\n",
    "        label_pd = pd.DataFrame(data=labels, columns=['grapheme_root','vowel_diacritic','consonant_diacritic'])\n",
    "        \n",
    "        name = pd.DataFrame(data=[img_name], columns=['image_id'])\n",
    "        new_row = pd.concat([name, img_pd, label_pd],axis=1,sort=False)\n",
    "        reduced_df = reduced_df.append(new_row, ignore_index = True) \n",
    "    \n",
    "    return reduced_df"
   ]
  },
  {
   "cell_type": "code",
   "execution_count": 5,
   "metadata": {
    "colab": {},
    "colab_type": "code",
    "id": "op5MTIr-HdUa"
   },
   "outputs": [],
   "source": [
    "class_map = pd.read_csv('/home/sayan/Documents/Bengali_Grapheme/data/class_map.csv')"
   ]
  },
  {
   "cell_type": "code",
   "execution_count": 6,
   "metadata": {
    "colab": {},
    "colab_type": "code",
    "id": "Q-Qdu20SHdfy"
   },
   "outputs": [],
   "source": [
    "train_df = pd.read_csv('/home/sayan/Documents/Bengali_Grapheme/data/train.csv')"
   ]
  },
  {
   "cell_type": "code",
   "execution_count": 7,
   "metadata": {
    "colab": {
     "base_uri": "https://localhost:8080/",
     "height": 350
    },
    "colab_type": "code",
    "id": "nIARetFhwBdc",
    "outputId": "db414f2c-c767-4689-edbb-70e4964cedc9"
   },
   "outputs": [],
   "source": [
    "train_image_0 = pd.read_parquet(datadir_parquet/'train_image_data_0.parquet',engine='pyarrow')"
   ]
  },
  {
   "cell_type": "code",
   "execution_count": 8,
   "metadata": {},
   "outputs": [
    {
     "name": "stderr",
     "output_type": "stream",
     "text": [
      "100%|██████████| 50210/50210 [59:19<00:00, 14.10it/s]  \n"
     ]
    }
   ],
   "source": [
    "combined_train_df_0 = combine_image_labels(train_df,train_image_0)"
   ]
  },
  {
   "cell_type": "code",
   "execution_count": 9,
   "metadata": {},
   "outputs": [],
   "source": [
    "combined_train_df_0.to_csv('/home/sayan/Documents/Bengali_Grapheme/data/combined_train_0.csv',index=False)"
   ]
  },
  {
   "cell_type": "code",
   "execution_count": 10,
   "metadata": {},
   "outputs": [
    {
     "data": {
      "text/html": [
       "<div>\n",
       "<style scoped>\n",
       "    .dataframe tbody tr th:only-of-type {\n",
       "        vertical-align: middle;\n",
       "    }\n",
       "\n",
       "    .dataframe tbody tr th {\n",
       "        vertical-align: top;\n",
       "    }\n",
       "\n",
       "    .dataframe thead th {\n",
       "        text-align: right;\n",
       "    }\n",
       "</style>\n",
       "<table border=\"1\" class=\"dataframe\">\n",
       "  <thead>\n",
       "    <tr style=\"text-align: right;\">\n",
       "      <th></th>\n",
       "      <th>image_id</th>\n",
       "      <th>0</th>\n",
       "      <th>1</th>\n",
       "      <th>2</th>\n",
       "      <th>3</th>\n",
       "      <th>4</th>\n",
       "      <th>5</th>\n",
       "      <th>6</th>\n",
       "      <th>7</th>\n",
       "      <th>8</th>\n",
       "      <th>...</th>\n",
       "      <th>4089</th>\n",
       "      <th>4090</th>\n",
       "      <th>4091</th>\n",
       "      <th>4092</th>\n",
       "      <th>4093</th>\n",
       "      <th>4094</th>\n",
       "      <th>4095</th>\n",
       "      <th>grapheme_root</th>\n",
       "      <th>vowel_diacritic</th>\n",
       "      <th>consonant_diacritic</th>\n",
       "    </tr>\n",
       "  </thead>\n",
       "  <tbody>\n",
       "    <tr>\n",
       "      <th>0</th>\n",
       "      <td>Train_0</td>\n",
       "      <td>0</td>\n",
       "      <td>0</td>\n",
       "      <td>0</td>\n",
       "      <td>0</td>\n",
       "      <td>0</td>\n",
       "      <td>0</td>\n",
       "      <td>0</td>\n",
       "      <td>0</td>\n",
       "      <td>0</td>\n",
       "      <td>...</td>\n",
       "      <td>0</td>\n",
       "      <td>0</td>\n",
       "      <td>0</td>\n",
       "      <td>0</td>\n",
       "      <td>0</td>\n",
       "      <td>0</td>\n",
       "      <td>0</td>\n",
       "      <td>15</td>\n",
       "      <td>9</td>\n",
       "      <td>5</td>\n",
       "    </tr>\n",
       "    <tr>\n",
       "      <th>1</th>\n",
       "      <td>Train_1</td>\n",
       "      <td>0</td>\n",
       "      <td>0</td>\n",
       "      <td>0</td>\n",
       "      <td>0</td>\n",
       "      <td>0</td>\n",
       "      <td>0</td>\n",
       "      <td>0</td>\n",
       "      <td>0</td>\n",
       "      <td>0</td>\n",
       "      <td>...</td>\n",
       "      <td>0</td>\n",
       "      <td>0</td>\n",
       "      <td>0</td>\n",
       "      <td>0</td>\n",
       "      <td>0</td>\n",
       "      <td>0</td>\n",
       "      <td>0</td>\n",
       "      <td>159</td>\n",
       "      <td>0</td>\n",
       "      <td>0</td>\n",
       "    </tr>\n",
       "    <tr>\n",
       "      <th>2</th>\n",
       "      <td>Train_2</td>\n",
       "      <td>0</td>\n",
       "      <td>0</td>\n",
       "      <td>0</td>\n",
       "      <td>0</td>\n",
       "      <td>0</td>\n",
       "      <td>0</td>\n",
       "      <td>0</td>\n",
       "      <td>0</td>\n",
       "      <td>0</td>\n",
       "      <td>...</td>\n",
       "      <td>60</td>\n",
       "      <td>210</td>\n",
       "      <td>255</td>\n",
       "      <td>255</td>\n",
       "      <td>255</td>\n",
       "      <td>102</td>\n",
       "      <td>4</td>\n",
       "      <td>22</td>\n",
       "      <td>3</td>\n",
       "      <td>5</td>\n",
       "    </tr>\n",
       "    <tr>\n",
       "      <th>3</th>\n",
       "      <td>Train_3</td>\n",
       "      <td>0</td>\n",
       "      <td>0</td>\n",
       "      <td>0</td>\n",
       "      <td>0</td>\n",
       "      <td>0</td>\n",
       "      <td>0</td>\n",
       "      <td>0</td>\n",
       "      <td>0</td>\n",
       "      <td>0</td>\n",
       "      <td>...</td>\n",
       "      <td>0</td>\n",
       "      <td>0</td>\n",
       "      <td>0</td>\n",
       "      <td>0</td>\n",
       "      <td>0</td>\n",
       "      <td>0</td>\n",
       "      <td>0</td>\n",
       "      <td>53</td>\n",
       "      <td>2</td>\n",
       "      <td>2</td>\n",
       "    </tr>\n",
       "    <tr>\n",
       "      <th>4</th>\n",
       "      <td>Train_4</td>\n",
       "      <td>0</td>\n",
       "      <td>0</td>\n",
       "      <td>0</td>\n",
       "      <td>0</td>\n",
       "      <td>0</td>\n",
       "      <td>0</td>\n",
       "      <td>0</td>\n",
       "      <td>0</td>\n",
       "      <td>0</td>\n",
       "      <td>...</td>\n",
       "      <td>0</td>\n",
       "      <td>0</td>\n",
       "      <td>0</td>\n",
       "      <td>0</td>\n",
       "      <td>0</td>\n",
       "      <td>0</td>\n",
       "      <td>0</td>\n",
       "      <td>71</td>\n",
       "      <td>9</td>\n",
       "      <td>5</td>\n",
       "    </tr>\n",
       "  </tbody>\n",
       "</table>\n",
       "<p>5 rows × 4100 columns</p>\n",
       "</div>"
      ],
      "text/plain": [
       "  image_id  0  1  2  3  4  5  6  7  8  ...  4089  4090  4091  4092  4093  \\\n",
       "0  Train_0  0  0  0  0  0  0  0  0  0  ...     0     0     0     0     0   \n",
       "1  Train_1  0  0  0  0  0  0  0  0  0  ...     0     0     0     0     0   \n",
       "2  Train_2  0  0  0  0  0  0  0  0  0  ...    60   210   255   255   255   \n",
       "3  Train_3  0  0  0  0  0  0  0  0  0  ...     0     0     0     0     0   \n",
       "4  Train_4  0  0  0  0  0  0  0  0  0  ...     0     0     0     0     0   \n",
       "\n",
       "   4094  4095  grapheme_root  vowel_diacritic  consonant_diacritic  \n",
       "0     0     0             15                9                    5  \n",
       "1     0     0            159                0                    0  \n",
       "2   102     4             22                3                    5  \n",
       "3     0     0             53                2                    2  \n",
       "4     0     0             71                9                    5  \n",
       "\n",
       "[5 rows x 4100 columns]"
      ]
     },
     "execution_count": 10,
     "metadata": {},
     "output_type": "execute_result"
    }
   ],
   "source": [
    "combined_train_df_0.head()"
   ]
  },
  {
   "cell_type": "code",
   "execution_count": 20,
   "metadata": {
    "colab": {},
    "colab_type": "code",
    "id": "DKQzmVZkG_Pr"
   },
   "outputs": [],
   "source": [
    "train_image_1 = pd.read_parquet(datadir_parquet/'train_image_data_1.parquet',engine='pyarrow')"
   ]
  },
  {
   "cell_type": "code",
   "execution_count": 21,
   "metadata": {},
   "outputs": [
    {
     "name": "stderr",
     "output_type": "stream",
     "text": [
      "100%|██████████| 50210/50210 [58:15<00:00, 14.36it/s]  \n"
     ]
    }
   ],
   "source": [
    "combined_train_df_1 = combine_image_labels(train_df,train_image_1)"
   ]
  },
  {
   "cell_type": "code",
   "execution_count": 22,
   "metadata": {},
   "outputs": [],
   "source": [
    "combined_train_df_1.to_csv('/home/sayan/Documents/Bengali_Grapheme/data/combined_train_1.csv',index=False)"
   ]
  },
  {
   "cell_type": "code",
   "execution_count": 23,
   "metadata": {
    "colab": {},
    "colab_type": "code",
    "id": "ol7b_Q1uG_Zd"
   },
   "outputs": [],
   "source": [
    "train_image_2 = pd.read_parquet(datadir_parquet/'train_image_data_2.parquet',engine='pyarrow')"
   ]
  },
  {
   "cell_type": "code",
   "execution_count": 24,
   "metadata": {},
   "outputs": [
    {
     "name": "stderr",
     "output_type": "stream",
     "text": [
      "100%|██████████| 50210/50210 [58:53<00:00, 14.21it/s]  \n"
     ]
    }
   ],
   "source": [
    "combined_train_df_2 = combine_image_labels(train_df,train_image_2)"
   ]
  },
  {
   "cell_type": "code",
   "execution_count": 25,
   "metadata": {},
   "outputs": [],
   "source": [
    "combined_train_df_2.to_csv('/home/sayan/Documents/Bengali_Grapheme/data/combined_train_2.csv',index=False)"
   ]
  },
  {
   "cell_type": "code",
   "execution_count": 26,
   "metadata": {
    "colab": {},
    "colab_type": "code",
    "id": "oTOSAd3xG_iB"
   },
   "outputs": [],
   "source": [
    "train_image_3 = pd.read_parquet(datadir_parquet/'train_image_data_3.parquet',engine='pyarrow')"
   ]
  },
  {
   "cell_type": "code",
   "execution_count": 27,
   "metadata": {},
   "outputs": [
    {
     "name": "stderr",
     "output_type": "stream",
     "text": [
      "100%|██████████| 50210/50210 [57:34<00:00, 14.53it/s]  \n"
     ]
    }
   ],
   "source": [
    "combined_train_df_3 = combine_image_labels(train_df,train_image_3)"
   ]
  },
  {
   "cell_type": "code",
   "execution_count": 28,
   "metadata": {
    "colab": {},
    "colab_type": "code",
    "id": "fXNxSopvG_uT"
   },
   "outputs": [],
   "source": [
    "combined_train_df_3.to_csv('/home/sayan/Documents/Bengali_Grapheme/data/combined_train_3.csv',index=False)"
   ]
  },
  {
   "cell_type": "code",
   "execution_count": null,
   "metadata": {
    "colab": {},
    "colab_type": "code",
    "id": "MVBEANyrwBen"
   },
   "outputs": [],
   "source": []
  }
 ],
 "metadata": {
  "@webio": {
   "lastCommId": null,
   "lastKernelId": null
  },
  "colab": {
   "collapsed_sections": [],
   "name": "Data Handling and Processing.ipynb",
   "provenance": []
  },
  "kernelspec": {
   "display_name": "Python 3",
   "language": "python",
   "name": "python3"
  },
  "language_info": {
   "codemirror_mode": {
    "name": "ipython",
    "version": 3
   },
   "file_extension": ".py",
   "mimetype": "text/x-python",
   "name": "python",
   "nbconvert_exporter": "python",
   "pygments_lexer": "ipython3",
   "version": "3.6.4"
  },
  "varInspector": {
   "cols": {
    "lenName": 16,
    "lenType": 16,
    "lenVar": 40
   },
   "kernels_config": {
    "python": {
     "delete_cmd_postfix": "",
     "delete_cmd_prefix": "del ",
     "library": "var_list.py",
     "varRefreshCmd": "print(var_dic_list())"
    },
    "r": {
     "delete_cmd_postfix": ") ",
     "delete_cmd_prefix": "rm(",
     "library": "var_list.r",
     "varRefreshCmd": "cat(var_dic_list()) "
    }
   },
   "types_to_exclude": [
    "module",
    "function",
    "builtin_function_or_method",
    "instance",
    "_Feature"
   ],
   "window_display": false
  }
 },
 "nbformat": 4,
 "nbformat_minor": 1
}
