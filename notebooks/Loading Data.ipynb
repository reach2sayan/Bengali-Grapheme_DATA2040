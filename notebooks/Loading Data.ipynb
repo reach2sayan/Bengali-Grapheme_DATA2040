{
 "cells": [
  {
   "cell_type": "code",
   "execution_count": 16,
   "metadata": {},
   "outputs": [],
   "source": [
    "import numpy as np\n",
    "import pandas as pd\n",
    "import matplotlib.pyplot as plt\n",
    "import os\n",
    "from pathlib import Path\n",
    "import cv2\n",
    "from tqdm import tqdm"
   ]
  },
  {
   "cell_type": "code",
   "execution_count": 4,
   "metadata": {},
   "outputs": [],
   "source": [
    "datadir_parquet = Path('/home/sayan/Documents/Bengali_Grapheme/data/image_parquets/')\n",
    "datadir_feather = Path('/home/sayan/Documents/Bengali_Grapheme/data/image_feathers/')\n",
    "#TRAIN = ['train_image_data_0.parquet','train_image_data_1.parquet',\n",
    "#         'train_image_data_2.parquet', 'train_image_data_3.parquet'];\n",
    "#TEST = ['test_image_data_0.parquet','test_image_data_1.parquet',\n",
    "#         'test_image_data_2.parquet', 'test_image_data_3.parquet'];\n",
    "        \n",
    "IMG_HEIGHT = 137;\n",
    "IMG_WIDTH = 236;"
   ]
  },
  {
   "cell_type": "markdown",
   "metadata": {},
   "source": [
    "## Convert all parquet files to feather for quick loading"
   ]
  },
  {
   "cell_type": "code",
   "execution_count": null,
   "metadata": {},
   "outputs": [],
   "source": [
    "train_image_0 = pd.read_parquet(datadir_parquet/'train_image_data_0.parquet',engine='pyarrow')\n",
    "train_image_1 = pd.read_parquet(datadir_parquet/'train_image_data_1.parquet',engine='pyarrow')\n",
    "train_image_2 = pd.read_parquet(datadir_parquet/'train_image_data_2.parquet',engine='pyarrow')\n",
    "train_image_3 = pd.read_parquet(datadir_parquet/'train_image_data_3.parquet',engine='pyarrow')"
   ]
  },
  {
   "cell_type": "code",
   "execution_count": null,
   "metadata": {},
   "outputs": [],
   "source": [
    "train_image_0.to_feather(datadir_feather/'train_image_data_0.feather')\n",
    "train_image_1.to_feather(datadir_feather/'train_image_data_1.feather')\n",
    "train_image_2.to_feather(datadir_feather/'train_image_data_2.feather)\n",
    "train_image_3.to_feather(datadir_feather/'train_image_data_3.feather')"
   ]
  },
  {
   "cell_type": "code",
   "execution_count": 5,
   "metadata": {},
   "outputs": [],
   "source": [
    "train_image_0 = pd.read_feather(datadir_feather/'train_image_data_0.feather')\n",
    "train_image_1 = pd.read_feather(datadir_feather/'train_image_data_1.feather')\n",
    "train_image_2 = pd.read_feather(datadir_feather/'train_image_data_2.feather')\n",
    "train_image_3 = pd.read_feather(datadir_feather/'train_image_data_3.feather')"
   ]
  },
  {
   "cell_type": "code",
   "execution_count": 6,
   "metadata": {},
   "outputs": [
    {
     "data": {
      "text/html": [
       "<div>\n",
       "<style scoped>\n",
       "    .dataframe tbody tr th:only-of-type {\n",
       "        vertical-align: middle;\n",
       "    }\n",
       "\n",
       "    .dataframe tbody tr th {\n",
       "        vertical-align: top;\n",
       "    }\n",
       "\n",
       "    .dataframe thead th {\n",
       "        text-align: right;\n",
       "    }\n",
       "</style>\n",
       "<table border=\"1\" class=\"dataframe\">\n",
       "  <thead>\n",
       "    <tr style=\"text-align: right;\">\n",
       "      <th></th>\n",
       "      <th>image_id</th>\n",
       "      <th>0</th>\n",
       "      <th>1</th>\n",
       "      <th>2</th>\n",
       "      <th>3</th>\n",
       "      <th>4</th>\n",
       "      <th>5</th>\n",
       "      <th>6</th>\n",
       "      <th>7</th>\n",
       "      <th>8</th>\n",
       "      <th>...</th>\n",
       "      <th>32322</th>\n",
       "      <th>32323</th>\n",
       "      <th>32324</th>\n",
       "      <th>32325</th>\n",
       "      <th>32326</th>\n",
       "      <th>32327</th>\n",
       "      <th>32328</th>\n",
       "      <th>32329</th>\n",
       "      <th>32330</th>\n",
       "      <th>32331</th>\n",
       "    </tr>\n",
       "  </thead>\n",
       "  <tbody>\n",
       "    <tr>\n",
       "      <th>50205</th>\n",
       "      <td>Train_100415</td>\n",
       "      <td>255</td>\n",
       "      <td>255</td>\n",
       "      <td>255</td>\n",
       "      <td>255</td>\n",
       "      <td>255</td>\n",
       "      <td>255</td>\n",
       "      <td>254</td>\n",
       "      <td>254</td>\n",
       "      <td>254</td>\n",
       "      <td>...</td>\n",
       "      <td>255</td>\n",
       "      <td>255</td>\n",
       "      <td>255</td>\n",
       "      <td>255</td>\n",
       "      <td>255</td>\n",
       "      <td>255</td>\n",
       "      <td>255</td>\n",
       "      <td>254</td>\n",
       "      <td>255</td>\n",
       "      <td>253</td>\n",
       "    </tr>\n",
       "    <tr>\n",
       "      <th>50206</th>\n",
       "      <td>Train_100416</td>\n",
       "      <td>220</td>\n",
       "      <td>220</td>\n",
       "      <td>217</td>\n",
       "      <td>227</td>\n",
       "      <td>229</td>\n",
       "      <td>223</td>\n",
       "      <td>226</td>\n",
       "      <td>224</td>\n",
       "      <td>224</td>\n",
       "      <td>...</td>\n",
       "      <td>255</td>\n",
       "      <td>255</td>\n",
       "      <td>255</td>\n",
       "      <td>254</td>\n",
       "      <td>254</td>\n",
       "      <td>255</td>\n",
       "      <td>255</td>\n",
       "      <td>254</td>\n",
       "      <td>253</td>\n",
       "      <td>251</td>\n",
       "    </tr>\n",
       "    <tr>\n",
       "      <th>50207</th>\n",
       "      <td>Train_100417</td>\n",
       "      <td>249</td>\n",
       "      <td>248</td>\n",
       "      <td>244</td>\n",
       "      <td>244</td>\n",
       "      <td>244</td>\n",
       "      <td>245</td>\n",
       "      <td>248</td>\n",
       "      <td>251</td>\n",
       "      <td>253</td>\n",
       "      <td>...</td>\n",
       "      <td>255</td>\n",
       "      <td>255</td>\n",
       "      <td>255</td>\n",
       "      <td>255</td>\n",
       "      <td>255</td>\n",
       "      <td>255</td>\n",
       "      <td>255</td>\n",
       "      <td>255</td>\n",
       "      <td>255</td>\n",
       "      <td>255</td>\n",
       "    </tr>\n",
       "    <tr>\n",
       "      <th>50208</th>\n",
       "      <td>Train_100418</td>\n",
       "      <td>251</td>\n",
       "      <td>253</td>\n",
       "      <td>254</td>\n",
       "      <td>254</td>\n",
       "      <td>254</td>\n",
       "      <td>254</td>\n",
       "      <td>254</td>\n",
       "      <td>253</td>\n",
       "      <td>253</td>\n",
       "      <td>...</td>\n",
       "      <td>254</td>\n",
       "      <td>254</td>\n",
       "      <td>254</td>\n",
       "      <td>253</td>\n",
       "      <td>253</td>\n",
       "      <td>253</td>\n",
       "      <td>254</td>\n",
       "      <td>254</td>\n",
       "      <td>255</td>\n",
       "      <td>254</td>\n",
       "    </tr>\n",
       "    <tr>\n",
       "      <th>50209</th>\n",
       "      <td>Train_100419</td>\n",
       "      <td>249</td>\n",
       "      <td>254</td>\n",
       "      <td>255</td>\n",
       "      <td>255</td>\n",
       "      <td>255</td>\n",
       "      <td>255</td>\n",
       "      <td>254</td>\n",
       "      <td>254</td>\n",
       "      <td>255</td>\n",
       "      <td>...</td>\n",
       "      <td>254</td>\n",
       "      <td>254</td>\n",
       "      <td>254</td>\n",
       "      <td>253</td>\n",
       "      <td>252</td>\n",
       "      <td>252</td>\n",
       "      <td>252</td>\n",
       "      <td>252</td>\n",
       "      <td>252</td>\n",
       "      <td>253</td>\n",
       "    </tr>\n",
       "  </tbody>\n",
       "</table>\n",
       "<p>5 rows × 32333 columns</p>\n",
       "</div>"
      ],
      "text/plain": [
       "           image_id    0    1    2    3    4    5    6    7    8  ...  32322  \\\n",
       "50205  Train_100415  255  255  255  255  255  255  254  254  254  ...    255   \n",
       "50206  Train_100416  220  220  217  227  229  223  226  224  224  ...    255   \n",
       "50207  Train_100417  249  248  244  244  244  245  248  251  253  ...    255   \n",
       "50208  Train_100418  251  253  254  254  254  254  254  253  253  ...    254   \n",
       "50209  Train_100419  249  254  255  255  255  255  254  254  255  ...    254   \n",
       "\n",
       "       32323  32324  32325  32326  32327  32328  32329  32330  32331  \n",
       "50205    255    255    255    255    255    255    254    255    253  \n",
       "50206    255    255    254    254    255    255    254    253    251  \n",
       "50207    255    255    255    255    255    255    255    255    255  \n",
       "50208    254    254    253    253    253    254    254    255    254  \n",
       "50209    254    254    253    252    252    252    252    252    253  \n",
       "\n",
       "[5 rows x 32333 columns]"
      ]
     },
     "execution_count": 6,
     "metadata": {},
     "output_type": "execute_result"
    }
   ],
   "source": [
    "train_image_1.tail()"
   ]
  },
  {
   "cell_type": "code",
   "execution_count": 7,
   "metadata": {},
   "outputs": [],
   "source": [
    "image_list = [train_image_0, train_image_1, train_image_2, train_image_3]"
   ]
  },
  {
   "cell_type": "code",
   "execution_count": 8,
   "metadata": {},
   "outputs": [
    {
     "data": {
      "text/plain": [
       "numpy.ndarray"
      ]
     },
     "execution_count": 8,
     "metadata": {},
     "output_type": "execute_result"
    }
   ],
   "source": [
    "type(train_image_0.iloc[1].values[1:])"
   ]
  },
  {
   "cell_type": "code",
   "execution_count": 14,
   "metadata": {},
   "outputs": [],
   "source": [
    "def create_image_directory(dirname, images):\n",
    "    num_of_images = images.shape[0]\n",
    "    for i in tqdm(range(num_of_images)):\n",
    "        image = images.iloc[i].values\n",
    "        img_save_dir = dirname + image[0] + \".png\"\n",
    "        cv2.imwrite(img_save_dir, image[1:].astype(float).reshape(IMG_HEIGHT,IMG_WIDTH))"
   ]
  },
  {
   "cell_type": "code",
   "execution_count": 11,
   "metadata": {},
   "outputs": [],
   "source": [
    "create_image_directory('/home/sayan/Documents/Bengali_Grapheme/images/raw_images/',train_image_0)"
   ]
  },
  {
   "cell_type": "code",
   "execution_count": 13,
   "metadata": {},
   "outputs": [],
   "source": [
    "create_image_directory('/home/sayan/Documents/Bengali_Grapheme/images/raw_images/',train_image_1)"
   ]
  },
  {
   "cell_type": "code",
   "execution_count": 17,
   "metadata": {},
   "outputs": [
    {
     "name": "stderr",
     "output_type": "stream",
     "text": [
      "100%|██████████| 50210/50210 [21:07<00:00, 39.62it/s]\n"
     ]
    }
   ],
   "source": [
    "create_image_directory('/home/sayan/Documents/Bengali_Grapheme/images/raw_images/',train_image_2)"
   ]
  },
  {
   "cell_type": "code",
   "execution_count": 18,
   "metadata": {},
   "outputs": [
    {
     "name": "stderr",
     "output_type": "stream",
     "text": [
      "100%|██████████| 50210/50210 [18:46<00:00, 44.58it/s]\n"
     ]
    }
   ],
   "source": [
    "create_image_directory('/home/sayan/Documents/Bengali_Grapheme/images/raw_images/',train_image_3)"
   ]
  },
  {
   "cell_type": "markdown",
   "metadata": {},
   "source": [
    "## Separate the 3 roots from class_map.csv to different csv's"
   ]
  },
  {
   "cell_type": "code",
   "execution_count": null,
   "metadata": {},
   "outputs": [],
   "source": []
  },
  {
   "cell_type": "code",
   "execution_count": null,
   "metadata": {},
   "outputs": [],
   "source": [
    "vowel_diacritics = class_map[class_map['component_type'] == 'vowel_diacritic'].reset_index().drop(['index'],axis=1)\n",
    "grapheme_roots = class_map[class_map['component_type'] == 'grapheme_root'].reset_index().drop(['index'],axis=1)\n",
    "consonant_diacritics = class_map[class_map['component_type'] == 'consonant_diacritic'].reset_index().drop(['index'],axis=1)"
   ]
  },
  {
   "cell_type": "code",
   "execution_count": null,
   "metadata": {},
   "outputs": [],
   "source": [
    "vowel_diacritics.to_csv('vowel_diacritics.csv')\n",
    "grapheme_roots.to_csv('grapheme_roots.csv')\n",
    "consonant_diacritics.to_csv('consonant_diacritics.csv')"
   ]
  },
  {
   "cell_type": "markdown",
   "metadata": {},
   "source": [
    "---"
   ]
  },
  {
   "cell_type": "code",
   "execution_count": null,
   "metadata": {},
   "outputs": [],
   "source": [
    "train_image_1.to_feather"
   ]
  },
  {
   "cell_type": "code",
   "execution_count": null,
   "metadata": {},
   "outputs": [],
   "source": [
    "train_image_1.head()"
   ]
  }
 ],
 "metadata": {
  "@webio": {
   "lastCommId": null,
   "lastKernelId": null
  },
  "kernelspec": {
   "display_name": "Python 3",
   "language": "python",
   "name": "python3"
  },
  "language_info": {
   "codemirror_mode": {
    "name": "ipython",
    "version": 3
   },
   "file_extension": ".py",
   "mimetype": "text/x-python",
   "name": "python",
   "nbconvert_exporter": "python",
   "pygments_lexer": "ipython3",
   "version": "3.6.4"
  },
  "varInspector": {
   "cols": {
    "lenName": 16,
    "lenType": 16,
    "lenVar": 40
   },
   "kernels_config": {
    "python": {
     "delete_cmd_postfix": "",
     "delete_cmd_prefix": "del ",
     "library": "var_list.py",
     "varRefreshCmd": "print(var_dic_list())"
    },
    "r": {
     "delete_cmd_postfix": ") ",
     "delete_cmd_prefix": "rm(",
     "library": "var_list.r",
     "varRefreshCmd": "cat(var_dic_list()) "
    }
   },
   "types_to_exclude": [
    "module",
    "function",
    "builtin_function_or_method",
    "instance",
    "_Feature"
   ],
   "window_display": false
  }
 },
 "nbformat": 4,
 "nbformat_minor": 2
}
