{
 "cells": [
  {
   "cell_type": "code",
   "execution_count": 1,
   "metadata": {},
   "outputs": [],
   "source": [
    "import numpy as np\n",
    "import pandas as pd\n",
    "import cv2\n",
    "import matplotlib.pyplot as plt\n",
    "import albumentations as A\n",
    "from pathlib import Path\n",
    "import os\n",
    "from tqdm import tqdm"
   ]
  },
  {
   "cell_type": "code",
   "execution_count": 2,
   "metadata": {},
   "outputs": [],
   "source": [
    "def resize_threshold(image,resize_size=64):\n",
    "    \n",
    "    image_bw = cv2.cvtColor(image, cv2.COLOR_BGR2GRAY)\n",
    "    \n",
    "    ret, image = cv2.threshold(image_bw, 127, 255, cv2.THRESH_BINARY_INV + cv2.THRESH_OTSU)\n",
    "    contours, _ = cv2.findContours(image,cv2.RETR_TREE,cv2.CHAIN_APPROX_NONE)[-2:] # finding the dark countour\n",
    "    \n",
    "    idx = 0 \n",
    "    ls_xmin = []\n",
    "    ls_ymin = []\n",
    "    ls_xmax = []\n",
    "    ls_ymax = []\n",
    "    for cnt in contours:\n",
    "        idx += 1\n",
    "        x,y,w,h = cv2.boundingRect(cnt)\n",
    "        ls_xmin.append(x)\n",
    "        ls_ymin.append(y)\n",
    "        ls_xmax.append(x + w)\n",
    "        ls_ymax.append(y + h)\n",
    "    xmin = min(ls_xmin)\n",
    "    ymin = min(ls_ymin)\n",
    "    xmax = max(ls_xmax)\n",
    "    ymax = max(ls_ymax)\n",
    "    \n",
    "    roi = image[ymin:ymax,xmin:xmax]\n",
    "    resized_roi = cv2.resize(roi, (resize_size, resize_size),interpolation=cv2.INTER_AREA)\n",
    "    \n",
    "    return resized_roi"
   ]
  },
  {
   "cell_type": "code",
   "execution_count": 3,
   "metadata": {},
   "outputs": [],
   "source": [
    "def create_processed_image_directory(dirname):\n",
    "    \n",
    "    datadir_raw_images = Path('/home/sayan/Documents/Bengali_Grapheme/images/toy_raw_images/')\n",
    "    for (directory, _ , image_names) in os.walk(datadir_raw_images):\n",
    "        for image_name in tqdm(image_names):\n",
    "            image = cv2.imread(os.path.join(directory, image_name))\n",
    "            image_denoise = cv2.fastNlMeansDenoisingColored(image, None, 10, 10, 7, 15)\n",
    "            image_th = resize_threshold(image_denoise)\n",
    "            img_save_dir = dirname + '/' + image_name.replace('.png','') + \"_f.png\"\n",
    "            cv2.imwrite(img_save_dir, image_th.astype(float))"
   ]
  },
  {
   "cell_type": "code",
   "execution_count": 4,
   "metadata": {},
   "outputs": [
    {
     "name": "stderr",
     "output_type": "stream",
     "text": [
      "100%|██████████| 20084/20084 [29:47<00:00, 11.23it/s]\n"
     ]
    }
   ],
   "source": [
    "create_processed_image_directory('/home/sayan/Documents/Bengali_Grapheme/images/toy_processed_images/')"
   ]
  },
  {
   "cell_type": "code",
   "execution_count": null,
   "metadata": {},
   "outputs": [],
   "source": []
  }
 ],
 "metadata": {
  "@webio": {
   "lastCommId": null,
   "lastKernelId": null
  },
  "kernelspec": {
   "display_name": "Python 3",
   "language": "python",
   "name": "python3"
  },
  "language_info": {
   "codemirror_mode": {
    "name": "ipython",
    "version": 3
   },
   "file_extension": ".py",
   "mimetype": "text/x-python",
   "name": "python",
   "nbconvert_exporter": "python",
   "pygments_lexer": "ipython3",
   "version": "3.6.4"
  },
  "varInspector": {
   "cols": {
    "lenName": 16,
    "lenType": 16,
    "lenVar": 40
   },
   "kernels_config": {
    "python": {
     "delete_cmd_postfix": "",
     "delete_cmd_prefix": "del ",
     "library": "var_list.py",
     "varRefreshCmd": "print(var_dic_list())"
    },
    "r": {
     "delete_cmd_postfix": ") ",
     "delete_cmd_prefix": "rm(",
     "library": "var_list.r",
     "varRefreshCmd": "cat(var_dic_list()) "
    }
   },
   "types_to_exclude": [
    "module",
    "function",
    "builtin_function_or_method",
    "instance",
    "_Feature"
   ],
   "window_display": false
  }
 },
 "nbformat": 4,
 "nbformat_minor": 2
}
