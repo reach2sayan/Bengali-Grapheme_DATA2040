{
 "cells": [
  {
   "cell_type": "code",
   "execution_count": null,
   "metadata": {
    "colab": {
     "base_uri": "https://localhost:8080/",
     "height": 54
    },
    "colab_type": "code",
    "id": "qPeMoQykwFWw",
    "outputId": "fc6c57b7-0367-44a7-c42c-9b34d2fec134"
   },
   "outputs": [],
   "source": [
    "from google.colab import drive\n",
    "drive.mount('/content/drive')"
   ]
  },
  {
   "cell_type": "code",
   "execution_count": 1,
   "metadata": {
    "colab": {},
    "colab_type": "code",
    "id": "i2XbZajNwBc6"
   },
   "outputs": [],
   "source": [
    "import numpy as np\n",
    "import pandas as pd\n",
    "import matplotlib.pyplot as plt\n",
    "import os\n",
    "from pathlib import Path\n",
    "import cv2\n",
    "from tqdm import tqdm\n",
    "from PIL import Image"
   ]
  },
  {
   "cell_type": "code",
   "execution_count": 2,
   "metadata": {
    "colab": {},
    "colab_type": "code",
    "id": "rwOI7OT2wBdM"
   },
   "outputs": [],
   "source": [
    "datadir_parquet = Path('/home/sayan/Documents/Bengali_Grapheme/data/image_parquets/')\n",
    "#datadir_feather = Path('/home/sayan/Documents/Bengali_Grapheme/data/image_feathers/')\n",
    "\n",
    "IMG_HEIGHT = 137;\n",
    "IMG_WIDTH = 236;"
   ]
  },
  {
   "cell_type": "code",
   "execution_count": 3,
   "metadata": {
    "code_folding": [
     0
    ],
    "colab": {},
    "colab_type": "code",
    "id": "enFIYoOXHhDP"
   },
   "outputs": [],
   "source": [
    "def resize_threshold(image,resize_size=64):\n",
    "    \n",
    "    #image_bw = cv2.cvtColor(image, cv2.COLOR_BGR2GRAY)\n",
    "    \n",
    "    ret, image = cv2.threshold(image, 127, 255, cv2.THRESH_BINARY_INV + cv2.THRESH_OTSU)\n",
    "    contours, _ = cv2.findContours(image,cv2.RETR_TREE,cv2.CHAIN_APPROX_NONE)[-2:] # finding the dark countour\n",
    "    \n",
    "    idx = 0 \n",
    "    ls_xmin = []\n",
    "    ls_ymin = []\n",
    "    ls_xmax = []\n",
    "    ls_ymax = []\n",
    "    for cnt in contours:\n",
    "        idx += 1\n",
    "        x,y,w,h = cv2.boundingRect(cnt)\n",
    "        ls_xmin.append(x)\n",
    "        ls_ymin.append(y)\n",
    "        ls_xmax.append(x + w)\n",
    "        ls_ymax.append(y + h)\n",
    "    xmin = min(ls_xmin)\n",
    "    ymin = min(ls_ymin)\n",
    "    xmax = max(ls_xmax)\n",
    "    ymax = max(ls_ymax)\n",
    "    \n",
    "    roi = image[ymin:ymax,xmin:xmax]\n",
    "    resized_roi = cv2.resize(roi, (resize_size, resize_size),interpolation=cv2.INTER_AREA)\n",
    "    \n",
    "    return resized_roi"
   ]
  },
  {
   "cell_type": "code",
   "execution_count": 4,
   "metadata": {
    "code_folding": [
     0
    ],
    "colab": {},
    "colab_type": "code",
    "id": "ajovcM7qHrBs"
   },
   "outputs": [],
   "source": [
    "def combine_image_labels(train_df,image_df):\n",
    "    \n",
    "    reduced_df = pd.DataFrame()\n",
    "    cols = np.array(range(0,4096),dtype=str)\n",
    "    \n",
    "    for i in tqdm(range(50210)):\n",
    "        \n",
    "        img_name = image_df.iloc[i][0]\n",
    "        \n",
    "        img_OG = np.array(image_df.iloc[i][1:].values.reshape(137,236,1))\n",
    "        img_resized = resize_threshold(img_OG.astype(np.uint8),resize_size=64)\n",
    "        labels = train_df[(train_df['image_id'] == img_name)][['grapheme_root','vowel_diacritic','consonant_diacritic']].values\n",
    "        img_pd = pd.DataFrame(data=img_resized.reshape(1,4096), columns=cols)\n",
    "        label_pd = pd.DataFrame(data=labels, columns=['grapheme_root','vowel_diacritic','consonant_diacritic'])\n",
    "        \n",
    "        name = pd.DataFrame(data=[img_name], columns=['image_id'])\n",
    "        new_row = pd.concat([name, img_pd, label_pd],axis=1,sort=False)\n",
    "        reduced_df.append(new_row, ignore_index = True) \n",
    "    \n",
    "    return reduced_df"
   ]
  },
  {
   "cell_type": "code",
   "execution_count": 5,
   "metadata": {
    "colab": {},
    "colab_type": "code",
    "id": "op5MTIr-HdUa"
   },
   "outputs": [],
   "source": [
    "class_map = pd.read_csv('/home/sayan/Documents/Bengali_Grapheme/data/class_map.csv')"
   ]
  },
  {
   "cell_type": "code",
   "execution_count": 6,
   "metadata": {
    "colab": {},
    "colab_type": "code",
    "id": "Q-Qdu20SHdfy"
   },
   "outputs": [],
   "source": [
    "train_df = pd.read_csv('/home/sayan/Documents/Bengali_Grapheme/data/train.csv')"
   ]
  },
  {
   "cell_type": "code",
   "execution_count": null,
   "metadata": {
    "colab": {
     "base_uri": "https://localhost:8080/",
     "height": 350
    },
    "colab_type": "code",
    "id": "nIARetFhwBdc",
    "outputId": "db414f2c-c767-4689-edbb-70e4964cedc9"
   },
   "outputs": [
    {
     "name": "stderr",
     "output_type": "stream",
     "text": [
      " 74%|███████▍  | 37317/50210 [33:40<10:46, 19.93it/s]  "
     ]
    }
   ],
   "source": [
    "train_image_0 = pd.read_parquet(datadir_parquet/'train_image_data_0.parquet',engine='pyarrow')\n",
    "combined_train_df_0 = combine_image_labels(train_df,train_image_0)"
   ]
  },
  {
   "cell_type": "code",
   "execution_count": null,
   "metadata": {},
   "outputs": [],
   "source": [
    "combined_train_df_0.to_csv('/home/sayan/Documents/Bengali_Grapheme/data/combined_train_0.csv',index=False)"
   ]
  },
  {
   "cell_type": "code",
   "execution_count": null,
   "metadata": {
    "colab": {},
    "colab_type": "code",
    "id": "DKQzmVZkG_Pr"
   },
   "outputs": [],
   "source": [
    "train_image_1 = pd.read_parquet(datadir_parquet/'train_image_data_1.parquet',engine='pyarrow')\n",
    "combined_train_df_1 = combine_image_labels(train_df,train_image_1)"
   ]
  },
  {
   "cell_type": "code",
   "execution_count": null,
   "metadata": {},
   "outputs": [],
   "source": [
    "combined_train_df_1.to_csv('/home/sayan/Documents/Bengali_Grapheme/data/combined_train_1.csv',index=False)"
   ]
  },
  {
   "cell_type": "code",
   "execution_count": null,
   "metadata": {
    "colab": {},
    "colab_type": "code",
    "id": "ol7b_Q1uG_Zd"
   },
   "outputs": [],
   "source": [
    "train_image_2 = pd.read_parquet(datadir_parquet/'train_image_data_2.parquet',engine='pyarrow')\n",
    "combined_train_df_2 = combine_image_labels(train_df,train_image_2)"
   ]
  },
  {
   "cell_type": "code",
   "execution_count": null,
   "metadata": {},
   "outputs": [],
   "source": [
    "combined_train_df_2.to_csv('/home/sayan/Documents/Bengali_Grapheme/data/combined_train_2.csv',index=False)"
   ]
  },
  {
   "cell_type": "code",
   "execution_count": null,
   "metadata": {
    "colab": {},
    "colab_type": "code",
    "id": "oTOSAd3xG_iB"
   },
   "outputs": [],
   "source": [
    "train_image_3 = pd.read_parquet(datadir_parquet/'train_image_data_3.parquet',engine='pyarrow')\n",
    "combined_train_df_3 = combine_image_labels(train_df,train_image_3)"
   ]
  },
  {
   "cell_type": "code",
   "execution_count": null,
   "metadata": {
    "colab": {},
    "colab_type": "code",
    "id": "fXNxSopvG_uT"
   },
   "outputs": [],
   "source": [
    "combined_train_df_3.to_csv('/home/sayan/Documents/Bengali_Grapheme/data/combined_train_3.csv',index=False)"
   ]
  },
  {
   "cell_type": "code",
   "execution_count": null,
   "metadata": {
    "colab": {},
    "colab_type": "code",
    "id": "nFEBPJ6QwBd7"
   },
   "outputs": [],
   "source": []
  },
  {
   "cell_type": "code",
   "execution_count": null,
   "metadata": {
    "colab": {},
    "colab_type": "code",
    "id": "_GLqnsxvwBeD"
   },
   "outputs": [],
   "source": []
  },
  {
   "cell_type": "code",
   "execution_count": null,
   "metadata": {
    "colab": {
     "base_uri": "https://localhost:8080/",
     "height": 34
    },
    "colab_type": "code",
    "id": "H2TG9qqGwBeI",
    "outputId": "bf0f22ea-ec6b-476d-945b-6bcfa6f47974"
   },
   "outputs": [],
   "source": [
    "train_df.shape"
   ]
  },
  {
   "cell_type": "code",
   "execution_count": null,
   "metadata": {
    "colab": {
     "base_uri": "https://localhost:8080/",
     "height": 206
    },
    "colab_type": "code",
    "id": "tFPDh-nExMzQ",
    "outputId": "0678b21c-eb59-4153-ff98-d55d53361109"
   },
   "outputs": [],
   "source": [
    "train_df.head()"
   ]
  },
  {
   "cell_type": "code",
   "execution_count": null,
   "metadata": {
    "colab": {
     "base_uri": "https://localhost:8080/",
     "height": 256
    },
    "colab_type": "code",
    "id": "xGAtNE-gxREQ",
    "outputId": "9f598656-959b-464c-ef5f-55891072f5aa"
   },
   "outputs": [],
   "source": [
    "train_image_1.tail()"
   ]
  },
  {
   "cell_type": "code",
   "execution_count": null,
   "metadata": {
    "colab": {},
    "colab_type": "code",
    "id": "_e07kahfyMgp"
   },
   "outputs": [],
   "source": [
    "img_try = np.float32(train_image_0.loc[train_image_0.index[1]][1:].values.reshape(137,236))"
   ]
  },
  {
   "cell_type": "code",
   "execution_count": null,
   "metadata": {
    "colab": {},
    "colab_type": "code",
    "id": "I1nD96t2BbQC"
   },
   "outputs": [],
   "source": [
    "vis2 = cv2.cvtColor(img_try, cv2.COLOR_GRAY2BGR)"
   ]
  },
  {
   "cell_type": "code",
   "execution_count": null,
   "metadata": {
    "colab": {
     "base_uri": "https://localhost:8080/",
     "height": 34
    },
    "colab_type": "code",
    "id": "S-HLYaToBtC0",
    "outputId": "02a0b1dc-67b8-4ba1-e18d-5f9fb1b4490d"
   },
   "outputs": [],
   "source": [
    "vis2.shape"
   ]
  },
  {
   "cell_type": "code",
   "execution_count": null,
   "metadata": {
    "colab": {},
    "colab_type": "code",
    "id": "a_HwnKulzyhQ"
   },
   "outputs": [],
   "source": []
  },
  {
   "cell_type": "code",
   "execution_count": null,
   "metadata": {
    "colab": {
     "base_uri": "https://localhost:8080/",
     "height": 130
    },
    "colab_type": "code",
    "id": "q6sdsXND0-V5",
    "outputId": "f9c32fc3-e881-4a7c-ed10-7be6834cd9a0"
   },
   "outputs": [],
   "source": [
    "new_row"
   ]
  },
  {
   "cell_type": "code",
   "execution_count": null,
   "metadata": {
    "colab": {},
    "colab_type": "code",
    "id": "okjT0w_NwBeQ"
   },
   "outputs": [],
   "source": []
  },
  {
   "cell_type": "code",
   "execution_count": null,
   "metadata": {
    "colab": {},
    "colab_type": "code",
    "id": "lN7iEbuAwBeX"
   },
   "outputs": [],
   "source": []
  },
  {
   "cell_type": "code",
   "execution_count": null,
   "metadata": {
    "colab": {
     "base_uri": "https://localhost:8080/",
     "height": 330
    },
    "colab_type": "code",
    "id": "ryzNj7oiwBef",
    "outputId": "8759a8fa-1940-4e26-a20c-bb7790f27865"
   },
   "outputs": [],
   "source": [
    "df = combine_image_labels(train_df,train_image_0)"
   ]
  },
  {
   "cell_type": "code",
   "execution_count": null,
   "metadata": {
    "colab": {},
    "colab_type": "code",
    "id": "MVBEANyrwBen"
   },
   "outputs": [],
   "source": []
  }
 ],
 "metadata": {
  "@webio": {
   "lastCommId": null,
   "lastKernelId": null
  },
  "colab": {
   "collapsed_sections": [],
   "name": "Data Handling and Processing.ipynb",
   "provenance": []
  },
  "kernelspec": {
   "display_name": "Python 3",
   "language": "python",
   "name": "python3"
  },
  "language_info": {
   "codemirror_mode": {
    "name": "ipython",
    "version": 3
   },
   "file_extension": ".py",
   "mimetype": "text/x-python",
   "name": "python",
   "nbconvert_exporter": "python",
   "pygments_lexer": "ipython3",
   "version": "3.6.4"
  },
  "varInspector": {
   "cols": {
    "lenName": 16,
    "lenType": 16,
    "lenVar": 40
   },
   "kernels_config": {
    "python": {
     "delete_cmd_postfix": "",
     "delete_cmd_prefix": "del ",
     "library": "var_list.py",
     "varRefreshCmd": "print(var_dic_list())"
    },
    "r": {
     "delete_cmd_postfix": ") ",
     "delete_cmd_prefix": "rm(",
     "library": "var_list.r",
     "varRefreshCmd": "cat(var_dic_list()) "
    }
   },
   "types_to_exclude": [
    "module",
    "function",
    "builtin_function_or_method",
    "instance",
    "_Feature"
   ],
   "window_display": false
  }
 },
 "nbformat": 4,
 "nbformat_minor": 1
}
